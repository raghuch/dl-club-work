{
 "cells": [
  {
   "cell_type": "code",
   "execution_count": 2,
   "metadata": {},
   "outputs": [],
   "source": [
    "import numpy as np\n",
    "import matplotlib.pyplot as plt\n",
    "#import pandas as pd"
   ]
  },
  {
   "cell_type": "code",
   "execution_count": 3,
   "metadata": {},
   "outputs": [],
   "source": [
    "import torch\n",
    "import torchvision\n",
    "import torch.nn as nn\n",
    "import torch.nn.functional as F\n",
    "from torch.autograd import Variable\n",
    "from torchvision import datasets, transforms, models\n",
    "from torch import optim\n",
    "from torch.utils.data import DataLoader"
   ]
  },
  {
   "cell_type": "code",
   "execution_count": 4,
   "metadata": {},
   "outputs": [],
   "source": [
    "datapath=\"../../datasets/fashion_mnist/\""
   ]
  },
  {
   "cell_type": "code",
   "execution_count": 5,
   "metadata": {},
   "outputs": [],
   "source": [
    "n_epochs = 10\n",
    "learning_rate = 0.001\n",
    "batch_size = 32"
   ]
  },
  {
   "cell_type": "code",
   "execution_count": 6,
   "metadata": {},
   "outputs": [],
   "source": [
    "def dataset_labels(i):\n",
    "    return [\"T-shirt/top\", \"Trouser\", \"Pullover\", \"Dress\", \"Coat\", \"Sandal\", \"Shirt\", \"Sneaker\", \"Bag\", \"Ankle boot\"][i]"
   ]
  },
  {
   "cell_type": "code",
   "execution_count": 7,
   "metadata": {},
   "outputs": [],
   "source": [
    "training_set = datasets.FashionMNIST(root=datapath, download=False, train=True, transform=transforms.ToTensor())\n",
    "test_set = datasets.FashionMNIST(root=datapath, download=False, train=False, transform=transforms.ToTensor())\n",
    "\n",
    "training_loader = torch.utils.data.DataLoader(training_set, batch_size=batch_size, shuffle=True, num_workers=2)\n",
    "test_loader = torch.utils.data.DataLoader(test_set, batch_size=batch_size, shuffle=True, num_workers=2)\n",
    "\n",
    "n_training_samples, img_width, img_height = training_set.train_data.shape"
   ]
  },
  {
   "cell_type": "markdown",
   "metadata": {},
   "source": [
    "#### Plot to check how images look like"
   ]
  },
  {
   "cell_type": "code",
   "execution_count": 8,
   "metadata": {},
   "outputs": [
    {
     "data": {
      "image/png": "[encoded data removed]",
      "text/plain": [
       "<Figure size 720x360 with 9 Axes>"
      ]
     },
     "metadata": {
      "needs_background": "light"
     },
     "output_type": "display_data"
    }
   ],
   "source": [
    "rand_idxs = np.random.randint(n_training_samples, size=9)\n",
    "f, a = plt.subplots(nrows=3, ncols=3, figsize=(10, 5))\n",
    "\n",
    "for i in range(9):\n",
    "    X = training_set.train_data[rand_idxs[i]]\n",
    "    Y = training_set.train_labels[rand_idxs[i]]\n",
    "    \n",
    "    r, c = i //3, i%3\n",
    "    a[r][c].set_title(dataset_labels(Y))\n",
    "    a[r][c].axis(\"off\")\n",
    "    a[r][c].imshow(X.numpy())\n",
    "    \n",
    "plt.draw()"
   ]
  },
  {
   "cell_type": "markdown",
   "metadata": {},
   "source": [
    "### Simple CNN model for Fashion MNIST dataset"
   ]
  },
  {
   "cell_type": "markdown",
   "metadata": {},
   "source": [
    "#### Use GPU if available"
   ]
  },
  {
   "cell_type": "code",
   "execution_count": 9,
   "metadata": {},
   "outputs": [],
   "source": [
    "use_gpu=False\n",
    "if torch.cuda.is_available():\n",
    "    use_gpu=True"
   ]
  },
  {
   "cell_type": "markdown",
   "metadata": {},
   "source": [
    "### Dimensions of the image after convolution and pooling\n",
    "We use the formulae:\n",
    "1. For Convolution:\n",
    "$$\\begin{align}\n",
    "W_{out} = \\dfrac{(W_{in} - F + 2P)}{S} + 1 \\newline\n",
    "H_{out} = \\dfrac{(H_{in} - F + 2P)}{S} + 1 \\newline\n",
    "\\end{align}$$\n",
    "\n",
    "For Pooling:\n",
    "    $$\\begin{align}\n",
    "    W_{out} = \\dfrac{W_{in} - F}{S} + 1 \\newline\n",
    "    H_{out} = \\dfrac{H_{in} - F}{S} + 1 \\newline\n",
    "    \\end{align}$$\n",
    "    \n",
    "    where we assume the filter is square shaped  and the dilation etc are set to default values."
   ]
  },
  {
   "cell_type": "code",
   "execution_count": 10,
   "metadata": {},
   "outputs": [
    {
     "name": "stdout",
     "output_type": "stream",
     "text": [
      "simpleCNN(\n",
      "  (convlayer1): Conv2d(1, 10, kernel_size=(5, 5), stride=(1, 1))\n",
      "  (convlayer2): Conv2d(10, 20, kernel_size=(3, 3), stride=(1, 1))\n",
      "  (poollayer1): MaxPool2d(kernel_size=2, stride=2, padding=0, dilation=1, ceil_mode=False)\n",
      "  (convlayer3): Conv2d(20, 30, kernel_size=(3, 3), stride=(1, 1))\n",
      "  (ReLU): ReLU()\n",
      "  (fc1): Linear(in_features=480, out_features=20, bias=True)\n",
      "  (fc2): Linear(in_features=20, out_features=10, bias=True)\n",
      ")\n"
     ]
    }
   ],
   "source": [
    "class simpleCNN(nn.Module):\n",
    "    def __init__(self):\n",
    "        super(simpleCNN, self).__init__()\n",
    "        self.convlayer1 = nn.Conv2d(in_channels=1, out_channels=10, kernel_size=5)\n",
    "        self.convlayer2 = nn.Conv2d(in_channels=10, out_channels=20, kernel_size=3)\n",
    "        self.poollayer1 = nn.MaxPool2d(kernel_size=2)\n",
    "        self.convlayer3 = nn.Conv2d(in_channels=20, out_channels=30, kernel_size=3)\n",
    "        self.ReLU = nn.ReLU()\n",
    "        \n",
    "        self.fc1 = nn.Linear( 30*4*4, 20) # 4*4 is the shape of the final image\n",
    "        self.fc2 = nn.Linear(20, 10)\n",
    "        \n",
    "        \n",
    "    def forward(self, x):\n",
    "        x = self.ReLU(self.convlayer1(x))\n",
    "        x = self.ReLU(self.convlayer2(x))\n",
    "        x = self.poollayer1(x)\n",
    "        x = self.ReLU(self.convlayer3(x))\n",
    "        x = self.poollayer1(x)\n",
    "        x = x.view(-1, 30*4*4)\n",
    "        x = self.fc1(x)\n",
    "        x = self.fc2(x)\n",
    "        \n",
    "        return x\n",
    "    \n",
    "        \n",
    "        \n",
    "print(simpleCNN())"
   ]
  },
  {
   "cell_type": "markdown",
   "metadata": {},
   "source": [
    "### Initialize the CNN, Loss criterion, and optimizer"
   ]
  },
  {
   "cell_type": "code",
   "execution_count": 11,
   "metadata": {},
   "outputs": [],
   "source": [
    "fmnistCNN = simpleCNN()\n",
    "if use_gpu:\n",
    "    fmnistCNN = fmnistCNN.cuda()\n",
    "lossfn = nn.CrossEntropyLoss() #Cross Entropy loss since this is a classification problem\n",
    "optimizer = optim.Adam(fmnistCNN.parameters() , lr=learning_rate)"
   ]
  },
  {
   "cell_type": "code",
   "execution_count": 17,
   "metadata": {},
   "outputs": [
    {
     "name": "stdout",
     "output_type": "stream",
     "text": [
      "Current epoch : 1\n",
      "--------------------\n",
      "Training loss: 0.188 \n",
      "\n",
      "Current epoch : 2\n",
      "--------------------\n",
      "Training loss: 0.020 \n",
      "\n",
      "Training loss: 0.188 \n",
      "\n",
      "Current epoch : 3\n",
      "--------------------\n",
      "Training loss: 0.045 \n",
      "\n",
      "Training loss: 0.180 \n",
      "\n",
      "Current epoch : 4\n",
      "--------------------\n",
      "Training loss: 0.063 \n",
      "\n",
      "Training loss: 0.180 \n",
      "\n",
      "Current epoch : 5\n",
      "--------------------\n",
      "Training loss: 0.083 \n",
      "\n",
      "Training loss: 0.180 \n",
      "\n",
      "Current epoch : 6\n",
      "--------------------\n",
      "Training loss: 0.100 \n",
      "\n",
      "Training loss: 0.181 \n",
      "\n",
      "Current epoch : 7\n",
      "--------------------\n",
      "Training loss: 0.124 \n",
      "\n",
      "Training loss: 0.177 \n",
      "\n",
      "Current epoch : 8\n",
      "--------------------\n",
      "Training loss: 0.144 \n",
      "\n",
      "Training loss: 0.175 \n",
      "\n",
      "Current epoch : 9\n",
      "--------------------\n",
      "Training loss: 0.166 \n",
      "\n",
      "Current epoch : 10\n",
      "--------------------\n",
      "Training loss: 0.018 \n",
      "\n",
      "Training loss: 0.161 \n",
      "\n",
      "----------------------------------------\n",
      "Finished Training\n"
     ]
    }
   ],
   "source": [
    "curr_iter=0\n",
    "for epoch in range(n_epochs):\n",
    "    print(\"Current epoch : {0}\".format(epoch+1))\n",
    "    print(\"--\" * 10)\n",
    "    curr_loss = 0.0\n",
    "    \n",
    "    for images, labels in training_loader:\n",
    "        images = images.cuda()\n",
    "        labels = labels.cuda()\n",
    "        images = Variable(images)\n",
    "        labels = Variable(labels)\n",
    "        \n",
    "        optimizer.zero_grad()\n",
    "        outputs = fmnistCNN(images)\n",
    "        \n",
    "        loss = lossfn(outputs, labels)\n",
    "        loss.backward()\n",
    "        \n",
    "        optimizer.step()\n",
    "        curr_iter += 1\n",
    "        curr_loss += loss.item()\n",
    "        \n",
    "        if curr_iter%1000 == 0:\n",
    "            #print(\"For iteration number {0}, loss is: {1}\".format(curr_iter, loss))\n",
    "            print(\"Training loss: %.3f \\n\" %(curr_loss/1000))\n",
    "            curr_loss = 0.0\n",
    "            \n",
    "print(\"--\"*20)\n",
    "print(\"Finished Training\")"
   ]
  },
  {
   "cell_type": "markdown",
   "metadata": {},
   "source": [
    "#### Use model.eval() for testing/inference"
   ]
  },
  {
   "cell_type": "code",
   "execution_count": 14,
   "metadata": {},
   "outputs": [
    {
     "data": {
      "text/plain": [
       "simpleCNN(\n",
       "  (convlayer1): Conv2d(1, 10, kernel_size=(5, 5), stride=(1, 1))\n",
       "  (convlayer2): Conv2d(10, 20, kernel_size=(3, 3), stride=(1, 1))\n",
       "  (poollayer1): MaxPool2d(kernel_size=2, stride=2, padding=0, dilation=1, ceil_mode=False)\n",
       "  (convlayer3): Conv2d(20, 30, kernel_size=(3, 3), stride=(1, 1))\n",
       "  (ReLU): ReLU()\n",
       "  (fc1): Linear(in_features=480, out_features=20, bias=True)\n",
       "  (fc2): Linear(in_features=20, out_features=10, bias=True)\n",
       ")"
      ]
     },
     "execution_count": 14,
     "metadata": {},
     "output_type": "execute_result"
    }
   ],
   "source": [
    "fmnistCNN.eval()"
   ]
  },
  {
   "cell_type": "code",
   "execution_count": 15,
   "metadata": {},
   "outputs": [],
   "source": [
    "correct = 0\n",
    "total = 0"
   ]
  },
  {
   "cell_type": "code",
   "execution_count": 16,
   "metadata": {},
   "outputs": [
    {
     "name": "stdout",
     "output_type": "stream",
     "text": [
      "Validation accuracy is: 89.0000\n"
     ]
    }
   ],
   "source": [
    "for imgs, labels in test_loader:\n",
    "    imgs = imgs.cuda()\n",
    "    imgs = Variable(imgs)\n",
    "    \n",
    "    labels = labels.cuda()\n",
    "    #labels = Variable(labels)\n",
    "    preds = fmnistCNN(imgs)\n",
    "    \n",
    "    _,predicted = torch.max(preds.data ,1)\n",
    "    total += labels.size(0)\n",
    "    correct += (predicted == labels).sum()\n",
    "    \n",
    "print(\"Validation accuracy is: %.4f\" %( 100* correct/total))"
   ]
  },
  {
   "cell_type": "code",
   "execution_count": null,
   "metadata": {},
   "outputs": [],
   "source": []
  }
 ],
 "metadata": {
  "kernelspec": {
   "display_name": "Python 3",
   "language": "python",
   "name": "python3"
  },
  "language_info": {
   "codemirror_mode": {
    "name": "ipython",
    "version": 3
   },
   "file_extension": ".py",
   "mimetype": "text/x-python",
   "name": "python",
   "nbconvert_exporter": "python",
   "pygments_lexer": "ipython3",
   "version": "3.6.6"
  }
 },
 "nbformat": 4,
 "nbformat_minor": 2
}
