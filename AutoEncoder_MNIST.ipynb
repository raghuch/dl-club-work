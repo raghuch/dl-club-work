{
  "nbformat": 4,
  "nbformat_minor": 0,
  "metadata": {
    "colab": {
      "name": "AutoEncoder_MNIST.ipynb",
      "version": "0.3.2",
      "provenance": [],
      "collapsed_sections": []
    },
    "kernelspec": {
      "name": "python3",
      "display_name": "Python 3"
    },
    "accelerator": "GPU"
  },
  "cells": [
    {
      "metadata": {
        "id": "YSO-iAougRB8",
        "colab_type": "code",
        "colab": {}
      },
      "cell_type": "code",
      "source": [
        "import numpy as np\n",
        "import matplotlib.pyplot as plt\n",
        "import torch\n",
        "import torch.nn as nn\n",
        "from torch.autograd import Variable\n",
        "import torch.nn.functional as F\n",
        "from torch.utils.data import DataLoader, Dataset\n",
        "import torchtext\n",
        "from torch.nn import Parameter"
      ],
      "execution_count": 0,
      "outputs": []
    },
    {
      "metadata": {
        "id": "cTa6YyoYgjTx",
        "colab_type": "code",
        "colab": {}
      },
      "cell_type": "code",
      "source": [
        "from argparse import Namespace\n",
        "from torchvision import datasets, transforms\n",
        "from torchvision.utils import save_image"
      ],
      "execution_count": 0,
      "outputs": []
    },
    {
      "metadata": {
        "id": "7d79POplgqix",
        "colab_type": "code",
        "colab": {}
      },
      "cell_type": "code",
      "source": [
        "from google.colab import files, drive\n",
        "drive.mount('/content/gdrive')"
      ],
      "execution_count": 0,
      "outputs": []
    },
    {
      "metadata": {
        "id": "JLjgH40jgjRQ",
        "colab_type": "code",
        "colab": {}
      },
      "cell_type": "code",
      "source": [
        "args = Namespace(datapath='/content/gdrive/My Drive/datasets/mnist',\n",
        "                 batch_sz = 64,\n",
        "                 lr = 0.001,\n",
        "                 n_epochs = 50)"
      ],
      "execution_count": 0,
      "outputs": []
    },
    {
      "metadata": {
        "id": "EWtkNjXqgjOq",
        "colab_type": "code",
        "colab": {}
      },
      "cell_type": "code",
      "source": [
        "training_data = datasets.MNIST(root=args.datapath, download=True, train=True, transform=transforms.ToTensor())\n",
        "test_data = datasets.MNIST(root=args.datapath, download=True, train=False, transform=transforms.ToTensor())"
      ],
      "execution_count": 0,
      "outputs": []
    },
    {
      "metadata": {
        "id": "BAjW2WxegjLy",
        "colab_type": "code",
        "colab": {}
      },
      "cell_type": "code",
      "source": [
        "train_dataloader = DataLoader(dataset=training_data, batch_size=args.batch_sz, shuffle=False, num_workers=2)\n",
        "test_dataloader = DataLoader(dataset=test_data, batch_size=args.batch_sz, shuffle=False, num_workers=2)"
      ],
      "execution_count": 0,
      "outputs": []
    },
    {
      "metadata": {
        "id": "R8B6Y06Hlh9D",
        "colab_type": "code",
        "colab": {
          "base_uri": "https://localhost:8080/",
          "height": 51
        },
        "outputId": "097e91a3-5759-44fd-d57b-bb4bd4eb4f89"
      },
      "cell_type": "code",
      "source": [
        "num_training_imgs, img_width, img_height = training_data.train_data.shape"
      ],
      "execution_count": 7,
      "outputs": [
        {
          "output_type": "stream",
          "text": [
            "/usr/local/lib/python3.6/dist-packages/torchvision/datasets/mnist.py:53: UserWarning: train_data has been renamed data\n",
            "  warnings.warn(\"train_data has been renamed data\")\n"
          ],
          "name": "stderr"
        }
      ]
    },
    {
      "metadata": {
        "id": "uuz3wTsNj9ar",
        "colab_type": "text"
      },
      "cell_type": "markdown",
      "source": [
        "Plot random images to visually check the data"
      ]
    },
    {
      "metadata": {
        "id": "UzIzbYyClVOC",
        "colab_type": "code",
        "colab": {
          "base_uri": "https://localhost:8080/",
          "height": 248
        },
        "outputId": "4885ba44-319c-4a11-fa5e-33bd5cd79762"
      },
      "cell_type": "code",
      "source": [
        "rand_idxs = np.random.randint(0, high=num_training_imgs, size=9 ,dtype='int64')\n",
        "\n",
        "fig, ax = plt.subplots(nrows=3,ncols=3, figsize=(8, 4))\n",
        "\n",
        "for idx in range(len(rand_idxs)):\n",
        "    row, col = idx //3, idx % 3\n",
        "    \n",
        "    ax[row, col].imshow(training_data.data[rand_idxs[idx]].numpy())\n",
        "    ax[row, col].set(xticks=[], yticks=[])\n",
        "    \n",
        "plt.show()"
      ],
      "execution_count": 8,
      "outputs": [
        {
          "output_type": "display_data",
          "data": {
            "image/png": "[encoded data removed]",
            "text/plain": [
              "<Figure size 576x288 with 9 Axes>"
            ]
          },
          "metadata": {
            "tags": []
          }
        }
      ]
    },
    {
      "metadata": {
        "id": "EUFbPA7WlVLR",
        "colab_type": "code",
        "colab": {}
      },
      "cell_type": "code",
      "source": [
        "use_gpu = torch.cuda.is_available()"
      ],
      "execution_count": 0,
      "outputs": []
    },
    {
      "metadata": {
        "id": "tai-gMlvlVI5",
        "colab_type": "code",
        "colab": {}
      },
      "cell_type": "code",
      "source": [
        "train_loss_history = []\n",
        "per_epoch_loss = []\n",
        "test_loss_history = []"
      ],
      "execution_count": 0,
      "outputs": []
    },
    {
      "metadata": {
        "id": "FkSokPAvlVF6",
        "colab_type": "code",
        "colab": {}
      },
      "cell_type": "code",
      "source": [
        "train_acc_history = []\n",
        "test_acc_history = []"
      ],
      "execution_count": 0,
      "outputs": []
    },
    {
      "metadata": {
        "id": "rHkt7pmelVAa",
        "colab_type": "code",
        "colab": {}
      },
      "cell_type": "code",
      "source": [
        ""
      ],
      "execution_count": 0,
      "outputs": []
    },
    {
      "metadata": {
        "id": "eZW2bjS2gTdn",
        "colab_type": "code",
        "colab": {}
      },
      "cell_type": "code",
      "source": [
        "class AutoEncoder(nn.Module):\n",
        "    def __init__(self):\n",
        "        super(AutoEncoder, self).__init__()\n",
        "        self.encoder = nn.Sequential(nn.Linear(28*28, 384),\n",
        "                                     nn.ReLU(),\n",
        "                                     #nn.Sigmoid(),\n",
        "                                     nn.Linear(384, 128),\n",
        "                                     nn.ReLU(),\n",
        "                                     #nn.Sigmoid(),\n",
        "                                     nn.Linear(128, 10),\n",
        "                                     nn.ReLU())\n",
        "                                     #nn.Tanh())\n",
        "        self.decoder = nn.Sequential(nn.Linear(10, 128),\n",
        "                                     nn.ReLU(),\n",
        "                                     #nn.Sigmoid(),\n",
        "                                     nn.Linear(128, 384),\n",
        "                                     nn.ReLU(),\n",
        "                                     #nn.Sigmoid(),\n",
        "                                     nn.Linear(384, 28*28),\n",
        "                                     nn.ReLU())\n",
        "                                     #nn.Tanh())\n",
        "        \n",
        "    def forward(self, X):\n",
        "        X = X.view(-1, 28*28)\n",
        "        X = self.encoder(X)\n",
        "        X = self.decoder(X)\n",
        "        X = X.view(-1, 1, 28, 28)\n",
        "        \n",
        "        return X"
      ],
      "execution_count": 0,
      "outputs": []
    },
    {
      "metadata": {
        "id": "PMNl_cn2xou2",
        "colab_type": "code",
        "colab": {}
      },
      "cell_type": "code",
      "source": [
        "simpleAutoEncoder = AutoEncoder()\n",
        "if use_gpu:\n",
        "    simpleAutoEncoder = simpleAutoEncoder.cuda()"
      ],
      "execution_count": 0,
      "outputs": []
    },
    {
      "metadata": {
        "id": "eR-ESwjp6JSB",
        "colab_type": "code",
        "colab": {}
      },
      "cell_type": "code",
      "source": [
        "optimizer = torch.optim.Adam(simpleAutoEncoder.parameters(), lr=args.lr)"
      ],
      "execution_count": 0,
      "outputs": []
    },
    {
      "metadata": {
        "id": "0dFKnTZk6kcO",
        "colab_type": "code",
        "colab": {}
      },
      "cell_type": "code",
      "source": [
        "lossfn = nn.MSELoss()\n",
        "#lossfn = nn.NLLLoss()\n",
        "\n",
        "for i in range(args.n_epochs):\n",
        "    for batch, (img_data, img_target) in enumerate(train_dataloader):\n",
        "        img_data = Variable(img_data)\n",
        "        if use_gpu:\n",
        "            img_data = img_data.cuda()\n",
        "        \n",
        "        #step-1:\n",
        "        optimizer.zero_grad()\n",
        "        \n",
        "        #step-2:\n",
        "        img_pred = simpleAutoEncoder(img_data)\n",
        "\n",
        "        \n",
        "        #step-3:\n",
        "        #loss = nn.MSELoss(img_pred, img_data)\n",
        "        loss = lossfn(img_pred, img_data)\n",
        "        \n",
        "        #step-4:\n",
        "        loss.backward()\n",
        "        optimizer.step()\n",
        "        \n",
        "        #extra:\n",
        "        per_epoch_loss.append(loss.cpu().data)\n",
        "        if(i%5 == 0):\n",
        "            #Save Images every 5th epoch to check visually\n",
        "            img_gen = img_pred.cpu().data\n",
        "            #print(img_gen.size())\n",
        "            img_gen = img_gen.view(img_gen.size(0), 1, 28, 28)\n",
        "            save_image(img_gen, filename='/content/gdrive/My Drive/datasets/mnist/img_{}.png'.format(i)) #, scale_each=True, normalize=True)\n",
        "            save_image(img_data.cpu(), filename='/content/gdrive/My Drive/datasets/mnist/orig_img_{}.png'.format(i)) #, scale_each=True, normalize=True)\n",
        "        \n",
        "        \n",
        "    train_loss_history.append(np.mean(per_epoch_loss))"
      ],
      "execution_count": 0,
      "outputs": []
    },
    {
      "metadata": {
        "id": "U8jFQyhF6kZn",
        "colab_type": "code",
        "colab": {}
      },
      "cell_type": "code",
      "source": [
        ""
      ],
      "execution_count": 0,
      "outputs": []
    },
    {
      "metadata": {
        "id": "vXVaA-gpIpTP",
        "colab_type": "code",
        "colab": {}
      },
      "cell_type": "code",
      "source": [
        "\n",
        "        "
      ],
      "execution_count": 0,
      "outputs": []
    },
    {
      "metadata": {
        "id": "RO2KHU8ULMIB",
        "colab_type": "code",
        "colab": {}
      },
      "cell_type": "code",
      "source": [
        ""
      ],
      "execution_count": 0,
      "outputs": []
    }
  ]
}